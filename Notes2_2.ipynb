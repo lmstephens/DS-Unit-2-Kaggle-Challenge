{
  "nbformat": 4,
  "nbformat_minor": 0,
  "metadata": {
    "colab": {
      "name": "Notes.ipynb",
      "provenance": []
    },
    "kernelspec": {
      "name": "python3",
      "display_name": "Python 3"
    }
  },
  "cells": [
    {
      "cell_type": "markdown",
      "metadata": {
        "id": "S4zaww_jSwW0",
        "colab_type": "text"
      },
      "source": [
        "### Decision Trees\n",
        "Decision trees have high interpretability after being trained you can literally draw them.\n",
        "Splits data on the feature which when split provides highest infomation gain.\n",
        "*  clean data with **outliers and missing values**\n",
        "*  use scikit-learn **pipelines**\n",
        "*  use scikit-learn for **decision trees**\n",
        "*  get and interpret **feature importances** of a tree-based model\n",
        "*  understand why decision trees are useful to model **non-linear, non-monotonic** relationships and **feature interactions**"
      ]
    },
    {
      "cell_type": "code",
      "metadata": {
        "id": "-Gd8zmkPZKqB",
        "colab_type": "code",
        "colab": {}
      },
      "source": [
        ""
      ],
      "execution_count": 0,
      "outputs": []
    },
    {
      "cell_type": "markdown",
      "metadata": {
        "id": "HczXy3Y-ZE7W",
        "colab_type": "text"
      },
      "source": [
        "### Pipelines"
      ]
    },
    {
      "cell_type": "code",
      "metadata": {
        "id": "d8OvfUyKPJsv",
        "colab_type": "code",
        "colab": {}
      },
      "source": [
        ""
      ],
      "execution_count": 0,
      "outputs": []
    },
    {
      "cell_type": "markdown",
      "metadata": {
        "id": "S_LTaB4bZLvo",
        "colab_type": "text"
      },
      "source": [
        "### Feature importances of a tree-based model"
      ]
    },
    {
      "cell_type": "code",
      "metadata": {
        "id": "7xHoB7XnZTTB",
        "colab_type": "code",
        "colab": {}
      },
      "source": [
        ""
      ],
      "execution_count": 0,
      "outputs": []
    }
  ]
}